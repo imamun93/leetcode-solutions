{
 "cells": [
  {
   "cell_type": "code",
   "execution_count": 1,
   "metadata": {},
   "outputs": [],
   "source": [
    "url='https://leetcode.com/problems/longest-palindromic-substring'"
   ]
  },
  {
   "cell_type": "markdown",
   "metadata": {},
   "source": [
    "Given a string s, find the longest palindromic substring in s. You may assume that the maximum length of s is 1000.\n",
    "\n",
    "Example 1:\n",
    "\n",
    "Input: \"babad\"\n",
    "Output: \"bab\"\n",
    "\n",
    "Note: \"aba\" is also a valid answer.\n",
    "\n",
    "Example 2:\n",
    "\n",
    "Input: \"cbbd\"\n",
    "Output: \"bb\"\n"
   ]
  },
  {
   "cell_type": "code",
   "execution_count": 3,
   "metadata": {},
   "outputs": [],
   "source": [
    "def longestPalindrome(s):\n",
    "        lenS = len(s)\n",
    "        if lenS <= 1: return s\n",
    "        start, maxl, i = 0, 1, 0\n",
    "        while i < lenS:\n",
    "            if lenS - i <= (maxl / 2):\n",
    "                print('Not possible')\n",
    "                break\n",
    "            j, k = i, i\n",
    "            while k < (lenS - 1) and s[k] == s[k + 1]: \n",
    "                k += 1\n",
    "            i = k + 1\n",
    "            while k < (lenS - 1) and j and s[k + 1] == s[j - 1]:  \n",
    "                k, j = k + 1, j - 1\n",
    "            if k - j + 1 > maxl: \n",
    "                start, maxl = j, k - j + 1\n",
    "        return s[start: start + maxl]"
   ]
  },
  {
   "cell_type": "code",
   "execution_count": null,
   "metadata": {},
   "outputs": [],
   "source": []
  }
 ],
 "metadata": {
  "kernelspec": {
   "display_name": "Python 3",
   "language": "python",
   "name": "python3"
  },
  "language_info": {
   "codemirror_mode": {
    "name": "ipython",
    "version": 3
   },
   "file_extension": ".py",
   "mimetype": "text/x-python",
   "name": "python",
   "nbconvert_exporter": "python",
   "pygments_lexer": "ipython3",
   "version": "3.6.8"
  }
 },
 "nbformat": 4,
 "nbformat_minor": 2
}
